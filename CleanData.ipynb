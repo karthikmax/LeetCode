{
 "cells": [
  {
   "cell_type": "code",
   "execution_count": 4,
   "metadata": {},
   "outputs": [],
   "source": [
    "import pandas as pd"
   ]
  },
  {
   "cell_type": "code",
   "execution_count": null,
   "metadata": {},
   "outputs": [],
   "source": [
    "'''\n",
    "Data is like this:\n",
    "\n",
    "'Timestamp: 1646874440.563719        ID: 0060    S Rx                DL:  8    00 00 00 00 00 00 00 08     Channel: can0'\n",
    "more similar lines in an excel file\n",
    "\n",
    "'''\n",
    "\n",
    "def getColIndex(texts_to_find,text):\n",
    "    col_index = [text.find(t) for t in texts_to_find]\n",
    "    return col_index\n",
    "\n",
    "def cleanFrame (data,texts_to_find,replacewith):\n",
    "    for i in range(len(texts_to_find)):\n",
    "        data[texts_to_find[i]] = data[texts_to_find[i]].str.replace(texts_to_find[i] + ':',replacewith)\n",
    "        data[texts_to_find[i]] = data[texts_to_find[i]].str.strip()\n",
    "\n",
    "    return data\n",
    "\n",
    "data = pd.read_excel('/content/sample_data/Data.xlsx')\n",
    "#data['Data'] = data['Data'].astype(str)\n",
    "texts_to_find = ['Timestamp','ID','DL','Channel']\n",
    "col_index = getColIndex(texts_to_find,data['Data'][0])\n",
    "\n",
    "for i in range(len(texts_to_find)):\n",
    "    if i == len(texts_to_find) - 1:\n",
    "        data[texts_to_find[i]] = data['Data'].str[col_index[i]:]\n",
    "    else:\n",
    "        data[texts_to_find[i]] = data['Data'].str[col_index[i]:col_index[i+1]]\n",
    "\n",
    "data = data.drop('Data',axis = 1)\n",
    "data_clean = cleanFrame(data,texts_to_find,'')\n",
    "data_clean"
   ]
  }
 ],
 "metadata": {
  "kernelspec": {
   "display_name": "Python 3",
   "language": "python",
   "name": "python3"
  },
  "language_info": {
   "codemirror_mode": {
    "name": "ipython",
    "version": 3
   },
   "file_extension": ".py",
   "mimetype": "text/x-python",
   "name": "python",
   "nbconvert_exporter": "python",
   "pygments_lexer": "ipython3",
   "version": "3.7.4"
  }
 },
 "nbformat": 4,
 "nbformat_minor": 2
}
